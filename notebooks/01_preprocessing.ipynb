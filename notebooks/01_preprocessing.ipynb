{
 "cells": [
  {
   "cell_type": "code",
   "execution_count": 1,
   "id": "dd0af570-d820-44a3-8554-e469b2022baf",
   "metadata": {},
   "outputs": [],
   "source": [
    "import os\n",
    "import sys\n",
    "\n",
    "sys.path.append(os.getcwd())\n",
    "os.chdir(\"..\")\n",
    "\n",
    "import pandas as pd"
   ]
  },
  {
   "cell_type": "code",
   "execution_count": 104,
   "id": "ab6fc5ce-0345-4930-98c2-5b45e2acfd2a",
   "metadata": {},
   "outputs": [],
   "source": [
    "pd.set_option(\"display.max_columns\", 200)\n",
    "pd.set_option(\"display.max_rows\", 800)"
   ]
  },
  {
   "cell_type": "code",
   "execution_count": 13,
   "id": "a8759c5f-2f1e-449a-825a-a243be14aeda",
   "metadata": {},
   "outputs": [],
   "source": [
    "from unidecode import unidecode"
   ]
  },
  {
   "cell_type": "markdown",
   "id": "68b45967-0d6e-4fc8-b412-3b96f688f9f4",
   "metadata": {},
   "source": [
    "* [data/raw/name_dataset/](https://github.com/philipperemy/name-dataset?tab=readme-ov-file#full-dataset)\n",
    "  * [google drive link](https://drive.google.com/file/d/1QDbtPWGQypYxiS4pC_hHBBtbRHk9gEtr/view?usp=sharing)"
   ]
  },
  {
   "cell_type": "code",
   "execution_count": 247,
   "id": "e43692be-b78c-4e06-a788-55755bc30272",
   "metadata": {},
   "outputs": [],
   "source": [
    "datasets = os.listdir(\"data/raw/name_dataset/data\")"
   ]
  },
  {
   "cell_type": "code",
   "execution_count": 277,
   "id": "911a72a9-f49e-4e70-a1e7-ffc0c84446b5",
   "metadata": {},
   "outputs": [],
   "source": [
    "df = pd.DataFrame()\n",
    "for dataset in datasets:\n",
    "    if \"csv\" in dataset:\n",
    "        df_temp = pd.read_csv(\n",
    "            \"data/raw/name_dataset/data/\" + dataset,\n",
    "            names=[\"firstname\", \"surname\", \"gender\", \"country_code\"],\n",
    "        )\n",
    "        df_temp = df_temp.dropna()\n",
    "        df_temp[\"country\"] = get_country_name(\n",
    "            df=df_temp, country_name_col=\"country_code\"\n",
    "        )\n",
    "        df_temp = df_temp.drop(columns=[\"firstname\", \"gender\", \"country_code\"])\n",
    "        df_temp[\"surname\"] = df_temp[\"surname\"].apply(unidecode)\n",
    "        df = pd.concat([df, df_temp])\n",
    "df.to_parquet(\"data/preprocessed/name_dataset.parquet\")"
   ]
  },
  {
   "cell_type": "code",
   "execution_count": 278,
   "id": "5ccdce14-55fc-4fe0-b94e-624c6be139bc",
   "metadata": {},
   "outputs": [],
   "source": [
    "df.to_parquet(\"data/preprocessed/name_dataset.parquet\")"
   ]
  },
  {
   "cell_type": "markdown",
   "id": "ddec9eb7-998d-41c6-b321-867873f70a47",
   "metadata": {},
   "source": [
    "* [data/raw/annotated_names_NamePrism.tsv](https://github.com/greenelab/wiki-nationality-estimate)"
   ]
  },
  {
   "cell_type": "code",
   "execution_count": 155,
   "id": "28faffa2-4dbb-4608-ab41-cddd426d6611",
   "metadata": {},
   "outputs": [],
   "source": [
    "df = pd.read_csv(\"data/raw/annotated_names_NamePrism.tsv\", sep=\"\\t\")"
   ]
  },
  {
   "cell_type": "code",
   "execution_count": 156,
   "id": "836cf94f-8f9b-4448-be67-0f8faade654c",
   "metadata": {},
   "outputs": [
    {
     "data": {
      "text/html": [
       "<div>\n",
       "<style scoped>\n",
       "    .dataframe tbody tr th:only-of-type {\n",
       "        vertical-align: middle;\n",
       "    }\n",
       "\n",
       "    .dataframe tbody tr th {\n",
       "        vertical-align: top;\n",
       "    }\n",
       "\n",
       "    .dataframe thead th {\n",
       "        text-align: right;\n",
       "    }\n",
       "</style>\n",
       "<table border=\"1\" class=\"dataframe\">\n",
       "  <thead>\n",
       "    <tr style=\"text-align: right;\">\n",
       "      <th></th>\n",
       "      <th>id</th>\n",
       "      <th>name</th>\n",
       "      <th>ethnicity</th>\n",
       "      <th>country</th>\n",
       "    </tr>\n",
       "  </thead>\n",
       "  <tbody>\n",
       "    <tr>\n",
       "      <th>0</th>\n",
       "      <td>1</td>\n",
       "      <td>Marius Aam</td>\n",
       "      <td>Nordic</td>\n",
       "      <td>Norway</td>\n",
       "    </tr>\n",
       "    <tr>\n",
       "      <th>1</th>\n",
       "      <td>2</td>\n",
       "      <td>Aamani</td>\n",
       "      <td>SouthAsian</td>\n",
       "      <td>India</td>\n",
       "    </tr>\n",
       "    <tr>\n",
       "      <th>2</th>\n",
       "      <td>3</td>\n",
       "      <td>Abdelkader Aamara</td>\n",
       "      <td>Muslim</td>\n",
       "      <td>Morocco</td>\n",
       "    </tr>\n",
       "    <tr>\n",
       "      <th>3</th>\n",
       "      <td>4</td>\n",
       "      <td>Jarle Alex Aambø</td>\n",
       "      <td>Nordic</td>\n",
       "      <td>Norway</td>\n",
       "    </tr>\n",
       "    <tr>\n",
       "      <th>4</th>\n",
       "      <td>5</td>\n",
       "      <td>Syed Aamer Ali</td>\n",
       "      <td>Muslim</td>\n",
       "      <td>Pakistan</td>\n",
       "    </tr>\n",
       "  </tbody>\n",
       "</table>\n",
       "</div>"
      ],
      "text/plain": [
       "   id               name   ethnicity   country\n",
       "0   1         Marius Aam      Nordic    Norway\n",
       "1   2             Aamani  SouthAsian     India\n",
       "2   3  Abdelkader Aamara      Muslim   Morocco\n",
       "3   4   Jarle Alex Aambø      Nordic    Norway\n",
       "4   5     Syed Aamer Ali      Muslim  Pakistan"
      ]
     },
     "execution_count": 156,
     "metadata": {},
     "output_type": "execute_result"
    }
   ],
   "source": [
    "df.head()"
   ]
  },
  {
   "cell_type": "code",
   "execution_count": 157,
   "id": "d2e97138-c357-480a-84e6-24d81d98be49",
   "metadata": {},
   "outputs": [
    {
     "data": {
      "text/plain": [
       "460500"
      ]
     },
     "execution_count": 157,
     "metadata": {},
     "output_type": "execute_result"
    }
   ],
   "source": [
    "len(df)"
   ]
  },
  {
   "cell_type": "code",
   "execution_count": 158,
   "id": "6870d2ad-9373-4e15-9bab-f3f8c733abf9",
   "metadata": {},
   "outputs": [],
   "source": [
    "df = df.drop(columns=[\"id\", \"ethnicity\"])"
   ]
  },
  {
   "cell_type": "code",
   "execution_count": 159,
   "id": "9c5c22e7-7010-414e-9cd8-2faed30ac705",
   "metadata": {},
   "outputs": [],
   "source": [
    "df[\"name\"] = df[\"name\"].apply(unidecode)"
   ]
  },
  {
   "cell_type": "code",
   "execution_count": 160,
   "id": "e09cd598-f763-4d76-9e46-f74c7b7d251d",
   "metadata": {},
   "outputs": [],
   "source": [
    "words_to_filter = [\n",
    "    \"daughter\",\n",
    "    \"Prince\",\n",
    "    \"Chief\",\n",
    "    \"Reverend\",\n",
    "    \" with\",\n",
    "    \"admiral\",\n",
    "    \"The\",\n",
    "    \"Count\",\n",
    "    \" from\",\n",
    "    \"aka\",\n",
    "    \"Prof\",\n",
    "    \"Lieutenant\",\n",
    "    \"Princess\",\n",
    "    \"Windysport\",\n",
    "    \" as\",\n",
    "    \" is\",\n",
    "    \" at\",\n",
    "    \" to\",\n",
    "    \"nicknamed\",\n",
    "    \" name\",\n",
    "    \" by\",\n",
    "    \" of\",\n",
    "    \" and\",\n",
    "    \" in\",\n",
    "    \"Personal\",\n",
    "    \"Honour\",\n",
    "    \"postage\",\n",
    "    \"Professor\",\n",
    "    \" Award\",\n",
    "    \"General\",\n",
    "    \"Admiral\",\n",
    "    \"Born\",\n",
    "    \"Website\",\n",
    "    \"'\",\n",
    "    \"\\)\",\n",
    "    \"\\(\",\n",
    "    \"Lady\",\n",
    "    \"Lord\",\n",
    "]\n",
    "\n",
    "for word in words_to_filter:\n",
    "    df = df[~df[\"name\"].str.contains(word)]\n",
    "\n",
    "# filter acronyms\n",
    "df = df[~df[\"name\"].str.contains(r\"\\b[A-Z](?:[&.]?[A-Z])+\\b\")]"
   ]
  },
  {
   "cell_type": "code",
   "execution_count": 161,
   "id": "2dd4c82a-b8d6-433f-9dfb-133aa49952b0",
   "metadata": {},
   "outputs": [],
   "source": [
    "df[\"surname\"] = df[\"name\"].str.split(\" \", expand=True).ffill(axis=1).iloc[:, -1]"
   ]
  },
  {
   "cell_type": "code",
   "execution_count": 143,
   "id": "ae0d1084-aae9-4cb6-bdf4-f303af88df91",
   "metadata": {},
   "outputs": [
    {
     "data": {
      "text/plain": [
       "448898"
      ]
     },
     "execution_count": 143,
     "metadata": {},
     "output_type": "execute_result"
    }
   ],
   "source": [
    "len(a)"
   ]
  },
  {
   "cell_type": "code",
   "execution_count": 163,
   "id": "8a016771-8ef7-41c3-b901-3ab7a48d39bb",
   "metadata": {},
   "outputs": [],
   "source": [
    "df.drop(columns=[\"name\"]).to_parquet(\n",
    "    \"data/preprocessed/annotated_names_NamePrism.parquet\"\n",
    ")"
   ]
  },
  {
   "cell_type": "markdown",
   "id": "2f03a0f6-852e-4318-952c-2c00ceb6e330",
   "metadata": {},
   "source": [
    "* [kaggle surname-dataset-classification](https://www.kaggle.com/datasets/alenic/surname-dataset-classification)\n",
    "  * [data/raw/surname-nationality.csv](https://huggingface.co/datasets/Hobson/surname-nationality/tree/main)"
   ]
  },
  {
   "cell_type": "code",
   "execution_count": 164,
   "id": "e39b1c3e-b7d5-4ba3-a205-a26579c76fb4",
   "metadata": {},
   "outputs": [],
   "source": [
    "df = pd.read_csv(\"data/raw/surname-nationality.csv\")"
   ]
  },
  {
   "cell_type": "code",
   "execution_count": 167,
   "id": "9e80e942-cf88-4f2b-bfbc-c85317a498dc",
   "metadata": {},
   "outputs": [],
   "source": [
    "df = df[[\"surname\", \"nationality\"]]"
   ]
  },
  {
   "cell_type": "code",
   "execution_count": 168,
   "id": "fca5f0f4-417e-4e50-988a-49aeb4e1d38d",
   "metadata": {},
   "outputs": [
    {
     "data": {
      "text/plain": [
       "array(['Ethiopian', 'Honduran', 'Nigerian', 'Malaysian', 'Chilean',\n",
       "       'Portuguese', 'Papua New Guinean', 'Algerian', 'Brazilian',\n",
       "       'Venezuelan', 'Ukrainian', 'South African', 'Nicaraguan',\n",
       "       'Moroccan', 'Finnish', 'Mexican', 'Palestinian', 'Nepalese',\n",
       "       'Peruvian', 'Dutch', 'Arabic', 'Irish', 'Spanish', 'French',\n",
       "       'German', 'English', 'Korean', 'Indian', 'Vietnamese', 'Scottish',\n",
       "       'Japanese', 'Polish', 'Greek', 'Czech', 'Italian', 'Russian',\n",
       "       'Chinese'], dtype=object)"
      ]
     },
     "execution_count": 168,
     "metadata": {},
     "output_type": "execute_result"
    }
   ],
   "source": [
    "df[\"nationality\"].unique()"
   ]
  },
  {
   "cell_type": "code",
   "execution_count": 169,
   "id": "bb250704-a34f-4637-8ce9-9f825a45abbc",
   "metadata": {},
   "outputs": [
    {
     "name": "stderr",
     "output_type": "stream",
     "text": [
      "/tmp/ipykernel_5113/1561251810.py:1: SettingWithCopyWarning: \n",
      "A value is trying to be set on a copy of a slice from a DataFrame.\n",
      "Try using .loc[row_indexer,col_indexer] = value instead\n",
      "\n",
      "See the caveats in the documentation: https://pandas.pydata.org/pandas-docs/stable/user_guide/indexing.html#returning-a-view-versus-a-copy\n",
      "  df[\"country\"] = df[\"nationality\"].replace({\n"
     ]
    }
   ],
   "source": [
    "df[\"country\"] = df[\"nationality\"].replace(\n",
    "    {\n",
    "        \"Ethiopian\": \"Ethiopia\",\n",
    "        \"Honduran\": \"Honduras\",\n",
    "        \"Nigerian\": \"Nigeria\",\n",
    "        \"Malaysian\": \"Malaysia\",\n",
    "        \"Chilean\": \"Chile\",\n",
    "        \"Portuguese\": \"Portugal\",\n",
    "        \"Papua New Guinean\": \"Papua New Guinea\",\n",
    "        \"Algerian\": \"Algeria\",\n",
    "        \"Brazilian\": \"Brazil\",\n",
    "        \"Venezuelan\": \"Venezuela\",\n",
    "        \"Ukrainian\": \"Ukraine\",\n",
    "        \"South African\": \"South Africa\",\n",
    "        \"Nicaraguan\": \"Nicaragua\",\n",
    "        \"Moroccan\": \"Morocco\",\n",
    "        \"Finnish\": \"Finland\",\n",
    "        \"Mexican\": \"Mexico\",\n",
    "        \"Palestinian\": \"Palestine\",\n",
    "        \"Nepalese\": \"Nepal\",\n",
    "        \"Peruvian\": \"Peru\",\n",
    "        \"Dutch\": \"Netherlands \",\n",
    "        \"Arabic\": \"Arabic\",\n",
    "        \"Irish\": \"Ireland\",\n",
    "        \"Spanish\": \"Spain\",\n",
    "        \"French\": \"France\",\n",
    "        \"German\": \"Germany\",\n",
    "        \"English\": \"England\",\n",
    "        \"Korean\": \" Korea\",\n",
    "        \"Indian\": \" India\",\n",
    "        \"Vietnamese\": \"Vietnam\",\n",
    "        \"Scottish\": \"England\",\n",
    "        \"Japanese\": \"Japan\",\n",
    "        \"Polish\": \"Poland\",\n",
    "        \"Greek\": \"Greece\",\n",
    "        \"Czech\": \"Czechia\",\n",
    "        \"Italian\": \"Italy\",\n",
    "        \"Russian\": \"Russia\",\n",
    "        \"Chinese\": \"China\",\n",
    "    }\n",
    ")"
   ]
  },
  {
   "cell_type": "code",
   "execution_count": 170,
   "id": "aac1a982-6a47-4ac6-8e5a-fa6a5112d360",
   "metadata": {},
   "outputs": [
    {
     "data": {
      "text/html": [
       "<div>\n",
       "<style scoped>\n",
       "    .dataframe tbody tr th:only-of-type {\n",
       "        vertical-align: middle;\n",
       "    }\n",
       "\n",
       "    .dataframe tbody tr th {\n",
       "        vertical-align: top;\n",
       "    }\n",
       "\n",
       "    .dataframe thead th {\n",
       "        text-align: right;\n",
       "    }\n",
       "</style>\n",
       "<table border=\"1\" class=\"dataframe\">\n",
       "  <thead>\n",
       "    <tr style=\"text-align: right;\">\n",
       "      <th></th>\n",
       "      <th>surname</th>\n",
       "      <th>nationality</th>\n",
       "      <th>country</th>\n",
       "    </tr>\n",
       "  </thead>\n",
       "  <tbody>\n",
       "    <tr>\n",
       "      <th>0</th>\n",
       "      <td>Tesfaye</td>\n",
       "      <td>Ethiopian</td>\n",
       "      <td>Ethiopia</td>\n",
       "    </tr>\n",
       "    <tr>\n",
       "      <th>1</th>\n",
       "      <td>Mohammed</td>\n",
       "      <td>Ethiopian</td>\n",
       "      <td>Ethiopia</td>\n",
       "    </tr>\n",
       "    <tr>\n",
       "      <th>2</th>\n",
       "      <td>Getachew</td>\n",
       "      <td>Ethiopian</td>\n",
       "      <td>Ethiopia</td>\n",
       "    </tr>\n",
       "    <tr>\n",
       "      <th>3</th>\n",
       "      <td>Abebe</td>\n",
       "      <td>Ethiopian</td>\n",
       "      <td>Ethiopia</td>\n",
       "    </tr>\n",
       "    <tr>\n",
       "      <th>4</th>\n",
       "      <td>Girma</td>\n",
       "      <td>Ethiopian</td>\n",
       "      <td>Ethiopia</td>\n",
       "    </tr>\n",
       "    <tr>\n",
       "      <th>...</th>\n",
       "      <td>...</td>\n",
       "      <td>...</td>\n",
       "      <td>...</td>\n",
       "    </tr>\n",
       "    <tr>\n",
       "      <th>36236</th>\n",
       "      <td>Yun</td>\n",
       "      <td>Chinese</td>\n",
       "      <td>China</td>\n",
       "    </tr>\n",
       "    <tr>\n",
       "      <th>36237</th>\n",
       "      <td>Zhai</td>\n",
       "      <td>Chinese</td>\n",
       "      <td>China</td>\n",
       "    </tr>\n",
       "    <tr>\n",
       "      <th>36238</th>\n",
       "      <td>Zhi</td>\n",
       "      <td>Chinese</td>\n",
       "      <td>China</td>\n",
       "    </tr>\n",
       "    <tr>\n",
       "      <th>36239</th>\n",
       "      <td>Zhuan</td>\n",
       "      <td>Chinese</td>\n",
       "      <td>China</td>\n",
       "    </tr>\n",
       "    <tr>\n",
       "      <th>36240</th>\n",
       "      <td>Zhui</td>\n",
       "      <td>Chinese</td>\n",
       "      <td>China</td>\n",
       "    </tr>\n",
       "  </tbody>\n",
       "</table>\n",
       "<p>36241 rows × 3 columns</p>\n",
       "</div>"
      ],
      "text/plain": [
       "        surname nationality   country\n",
       "0       Tesfaye   Ethiopian  Ethiopia\n",
       "1      Mohammed   Ethiopian  Ethiopia\n",
       "2      Getachew   Ethiopian  Ethiopia\n",
       "3         Abebe   Ethiopian  Ethiopia\n",
       "4         Girma   Ethiopian  Ethiopia\n",
       "...         ...         ...       ...\n",
       "36236       Yun     Chinese     China\n",
       "36237      Zhai     Chinese     China\n",
       "36238       Zhi     Chinese     China\n",
       "36239     Zhuan     Chinese     China\n",
       "36240      Zhui     Chinese     China\n",
       "\n",
       "[36241 rows x 3 columns]"
      ]
     },
     "execution_count": 170,
     "metadata": {},
     "output_type": "execute_result"
    }
   ],
   "source": [
    "df"
   ]
  },
  {
   "cell_type": "code",
   "execution_count": 171,
   "id": "2b911e6c-55c5-48fb-837b-a0170f873df7",
   "metadata": {},
   "outputs": [],
   "source": [
    "df.drop(columns=[\"nationality\"]).to_parquet(\n",
    "    \"data/preprocessed/surname-nationality.parquet\"\n",
    ")"
   ]
  },
  {
   "cell_type": "markdown",
   "id": "007c4870-0145-4b42-b171-a17f49608a07",
   "metadata": {},
   "source": [
    "* [kaggle surname-dataset-classification](https://www.kaggle.com/datasets/alenic/surname-dataset-classification)\n",
    "  * [data/raw/surnames_with_splits.csv](https://huggingface.co/datasets/NavidVafaei/surnames/tree/main)"
   ]
  },
  {
   "cell_type": "code",
   "execution_count": 172,
   "id": "d8decccc-0416-4a59-8448-f015792f75ce",
   "metadata": {},
   "outputs": [],
   "source": [
    "df = pd.read_csv(\"data/raw/surnames_with_splits.csv\")"
   ]
  },
  {
   "cell_type": "code",
   "execution_count": 174,
   "id": "6875351f-3475-46ca-a5a9-a334e7220b61",
   "metadata": {},
   "outputs": [],
   "source": [
    "df = df[[\"surname\", \"nationality\"]]"
   ]
  },
  {
   "cell_type": "code",
   "execution_count": 175,
   "id": "d8ab8d0d-6583-441e-9163-c643c0223d9f",
   "metadata": {},
   "outputs": [
    {
     "data": {
      "text/plain": [
       "array(['Arabic', 'Chinese', 'Czech', 'Dutch', 'English', 'French',\n",
       "       'German', 'Greek', 'Irish', 'Italian', 'Japanese', 'Korean',\n",
       "       'Polish', 'Portuguese', 'Russian', 'Scottish', 'Spanish',\n",
       "       'Vietnamese'], dtype=object)"
      ]
     },
     "execution_count": 175,
     "metadata": {},
     "output_type": "execute_result"
    }
   ],
   "source": [
    "df[\"nationality\"].unique()"
   ]
  },
  {
   "cell_type": "code",
   "execution_count": 176,
   "id": "f51c92d0-b684-42c0-9e5a-6ee7e6975e37",
   "metadata": {},
   "outputs": [
    {
     "name": "stderr",
     "output_type": "stream",
     "text": [
      "/tmp/ipykernel_5113/3673784748.py:1: SettingWithCopyWarning: \n",
      "A value is trying to be set on a copy of a slice from a DataFrame.\n",
      "Try using .loc[row_indexer,col_indexer] = value instead\n",
      "\n",
      "See the caveats in the documentation: https://pandas.pydata.org/pandas-docs/stable/user_guide/indexing.html#returning-a-view-versus-a-copy\n",
      "  df[\"country\"] = df[\"nationality\"].replace({\n"
     ]
    }
   ],
   "source": [
    "df[\"country\"] = df[\"nationality\"].replace(\n",
    "    {\n",
    "        \"Arabic\": \"Arabic\",\n",
    "        \"Chinese\": \"China\",\n",
    "        \"Czech\": \"Czechia\",\n",
    "        \"Dutch\": \"Netherlands \",\n",
    "        \"English\": \"England\",\n",
    "        \"French\": \"France\",\n",
    "        \"German\": \"Germany\",\n",
    "        \"Greek\": \"Greece\",\n",
    "        \"Irish\": \"Ireland\",\n",
    "        \"Italian\": \"Italy\",\n",
    "        \"Japanese\": \"Japan\",\n",
    "        \"Korean\": \" Korea\",\n",
    "        \"Polish\": \"Poland\",\n",
    "        \"Portuguese\": \"Portugal\",\n",
    "        \"Russian\": \"Russia\",\n",
    "        \"Scottish\": \"England\",\n",
    "        \"Spanish\": \"Spain\",\n",
    "        \"Vietnamese\": \"Vietnam\",\n",
    "    }\n",
    ")"
   ]
  },
  {
   "cell_type": "code",
   "execution_count": 177,
   "id": "3576280e-6696-4189-9310-33da74704352",
   "metadata": {},
   "outputs": [],
   "source": [
    "df.drop(columns=[\"nationality\"]).to_parquet(\n",
    "    \"data/preprocessed/surnames_with_splits.parquet\"\n",
    ")"
   ]
  },
  {
   "cell_type": "markdown",
   "id": "0502c04e-9566-4dfa-87eb-2fa34cd193e3",
   "metadata": {},
   "source": [
    "* [data/raw/final_all_names_code.csv](https://www.kaggle.com/datasets/amaleshvemula7/name-and-country-of-origin-dataset?resource=download)"
   ]
  },
  {
   "cell_type": "code",
   "execution_count": 235,
   "id": "b6fa089b-3560-404d-a6db-087059f0b566",
   "metadata": {},
   "outputs": [],
   "source": [
    "df = pd.read_csv(\"data/raw/final_all_names_code.csv\")\n",
    "\n",
    "import pycountry\n",
    "\n",
    "\n",
    "def get_country_name(df: pd.DataFrame, country_name_col: str):\n",
    "    \"\"\"Returns pd.Series with mapped country iso_a2 to names.\n",
    "\n",
    "    Args:\n",
    "        df (pd.Series): input country name pandas series\n",
    "    \"\"\"\n",
    "    dfc = df.copy()\n",
    "\n",
    "    def _get_country_name_map(country_name: str) -> str:\n",
    "        \"\"\"Helper function for get_country_name\"\"\"\n",
    "        try:\n",
    "            result = pycountry.countries.get(alpha_2=country_name)\n",
    "            name_str = result.name\n",
    "        except:\n",
    "            name_str = \"NA\"\n",
    "        return name_str\n",
    "\n",
    "    dfc[\"res\"] = \"NA\"\n",
    "    for country_name in dfc[country_name_col].unique():\n",
    "        dfc.loc[dfc[country_name_col] == country_name, [\"res\"]] = _get_country_name_map(\n",
    "            country_name\n",
    "        )\n",
    "    return dfc[\"res\"]"
   ]
  },
  {
   "cell_type": "code",
   "execution_count": 236,
   "id": "3d224238-3457-47fd-acbf-274a6d0ef609",
   "metadata": {},
   "outputs": [
    {
     "data": {
      "text/html": [
       "<div>\n",
       "<style scoped>\n",
       "    .dataframe tbody tr th:only-of-type {\n",
       "        vertical-align: middle;\n",
       "    }\n",
       "\n",
       "    .dataframe tbody tr th {\n",
       "        vertical-align: top;\n",
       "    }\n",
       "\n",
       "    .dataframe thead th {\n",
       "        text-align: right;\n",
       "    }\n",
       "</style>\n",
       "<table border=\"1\" class=\"dataframe\">\n",
       "  <thead>\n",
       "    <tr style=\"text-align: right;\">\n",
       "      <th></th>\n",
       "      <th>Name</th>\n",
       "      <th>Country_code</th>\n",
       "      <th>Country</th>\n",
       "    </tr>\n",
       "  </thead>\n",
       "  <tbody>\n",
       "    <tr>\n",
       "      <th>0</th>\n",
       "      <td>Amy Johnson</td>\n",
       "      <td>ar_AE</td>\n",
       "      <td>AE</td>\n",
       "    </tr>\n",
       "    <tr>\n",
       "      <th>1</th>\n",
       "      <td>Thomas Wright</td>\n",
       "      <td>ar_AE</td>\n",
       "      <td>AE</td>\n",
       "    </tr>\n",
       "    <tr>\n",
       "      <th>2</th>\n",
       "      <td>Mr. Marco Flores DDS</td>\n",
       "      <td>ar_AE</td>\n",
       "      <td>AE</td>\n",
       "    </tr>\n",
       "    <tr>\n",
       "      <th>3</th>\n",
       "      <td>Marcus Robbins</td>\n",
       "      <td>ar_AE</td>\n",
       "      <td>AE</td>\n",
       "    </tr>\n",
       "    <tr>\n",
       "      <th>4</th>\n",
       "      <td>Susan Montgomery</td>\n",
       "      <td>ar_AE</td>\n",
       "      <td>AE</td>\n",
       "    </tr>\n",
       "    <tr>\n",
       "      <th>...</th>\n",
       "      <td>...</td>\n",
       "      <td>...</td>\n",
       "      <td>...</td>\n",
       "    </tr>\n",
       "    <tr>\n",
       "      <th>404057</th>\n",
       "      <td>Yang Lu</td>\n",
       "      <td>zh_TW</td>\n",
       "      <td>TW</td>\n",
       "    </tr>\n",
       "    <tr>\n",
       "      <th>404058</th>\n",
       "      <td>Liu Yuxin</td>\n",
       "      <td>zh_TW</td>\n",
       "      <td>TW</td>\n",
       "    </tr>\n",
       "    <tr>\n",
       "      <th>404059</th>\n",
       "      <td>Wu Wei Ting</td>\n",
       "      <td>zh_TW</td>\n",
       "      <td>TW</td>\n",
       "    </tr>\n",
       "    <tr>\n",
       "      <th>404060</th>\n",
       "      <td>Li Shuting</td>\n",
       "      <td>zh_TW</td>\n",
       "      <td>TW</td>\n",
       "    </tr>\n",
       "    <tr>\n",
       "      <th>404061</th>\n",
       "      <td>Sujiarong</td>\n",
       "      <td>zh_TW</td>\n",
       "      <td>TW</td>\n",
       "    </tr>\n",
       "  </tbody>\n",
       "</table>\n",
       "<p>404062 rows × 3 columns</p>\n",
       "</div>"
      ],
      "text/plain": [
       "                         Name Country_code Country\n",
       "0                 Amy Johnson        ar_AE      AE\n",
       "1               Thomas Wright        ar_AE      AE\n",
       "2        Mr. Marco Flores DDS        ar_AE      AE\n",
       "3              Marcus Robbins        ar_AE      AE\n",
       "4            Susan Montgomery        ar_AE      AE\n",
       "...                       ...          ...     ...\n",
       "404057               Yang Lu         zh_TW      TW\n",
       "404058              Liu Yuxin        zh_TW      TW\n",
       "404059           Wu Wei Ting         zh_TW      TW\n",
       "404060            Li Shuting         zh_TW      TW\n",
       "404061             Sujiarong         zh_TW      TW\n",
       "\n",
       "[404062 rows x 3 columns]"
      ]
     },
     "execution_count": 236,
     "metadata": {},
     "output_type": "execute_result"
    }
   ],
   "source": [
    "df"
   ]
  },
  {
   "cell_type": "code",
   "execution_count": 237,
   "id": "2747f4ba-6887-40b8-a3cd-4d602b3f7661",
   "metadata": {},
   "outputs": [],
   "source": [
    "df[\"country\"] = get_country_name(df=df, country_name_col=\"Country\")"
   ]
  },
  {
   "cell_type": "code",
   "execution_count": 238,
   "id": "fdee6a6b-e878-49e2-9aa8-c14cbd6058cc",
   "metadata": {},
   "outputs": [
    {
     "data": {
      "text/plain": [
       "(0,\n",
       " array(['United Arab Emirates', 'Egypt', 'Jordan', 'Palestine, State of',\n",
       "        'Saudi Arabia', 'Azerbaijan', 'Bulgaria', 'Bangladesh',\n",
       "        'Bosnia and Herzegovina', 'Czechia', 'Denmark', 'Germany',\n",
       "        'Austria', 'Switzerland', 'Cyprus', 'Greece', 'Australia',\n",
       "        'Canada', 'United Kingdom', 'Ireland', 'India', 'New Zealand',\n",
       "        'Philippines', 'Thailand', 'United States', 'Spain', 'Colombia',\n",
       "        'Mexico', 'Estonia', 'Iran, Islamic Republic of', 'Finland',\n",
       "        'France', 'Israel', 'Croatia', 'Hungary', 'Armenia', 'Indonesia',\n",
       "        'Italy', 'Japan', 'Georgia', 'Korea, Republic of',\n",
       "        \"Lao People's Democratic Republic\", 'Luxembourg', 'Lithuania',\n",
       "        'Latvia', 'Malta', 'Nepal', 'Belgium', 'Netherlands', 'Norway',\n",
       "        'Poland', 'Brazil', 'Portugal', 'Romania', 'Russian Federation',\n",
       "        'Slovakia', 'Slovenia', 'Sweden', 'Türkiye', 'Ghana', 'Ukraine',\n",
       "        'China', 'Taiwan, Province of China'], dtype=object))"
      ]
     },
     "execution_count": 238,
     "metadata": {},
     "output_type": "execute_result"
    }
   ],
   "source": [
    "len(df[df[\"country\"] == \"NA\"]), df[\"country\"].unique()"
   ]
  },
  {
   "cell_type": "code",
   "execution_count": 239,
   "id": "2785b97c-02a0-4faa-8252-368cddcb926c",
   "metadata": {},
   "outputs": [],
   "source": [
    "df = df.drop(columns=[\"Country\", \"Country_code\"])"
   ]
  },
  {
   "cell_type": "code",
   "execution_count": 240,
   "id": "26cd1318-a4c0-4b21-badc-754198d8cb08",
   "metadata": {},
   "outputs": [],
   "source": [
    "df = df.dropna()"
   ]
  },
  {
   "cell_type": "code",
   "execution_count": 241,
   "id": "7ab5b1a1-7e9b-48c1-8f8e-d99f94a3506e",
   "metadata": {},
   "outputs": [],
   "source": [
    "df[\"Name\"] = df[\"Name\"].str.strip()\n",
    "\n",
    "words_to_filter = [\n",
    "    \"daughter\",\n",
    "    \"Prince\",\n",
    "    \"Chief\",\n",
    "    \"Reverend\",\n",
    "    \" with\",\n",
    "    \"admiral\",\n",
    "    \"The\",\n",
    "    \"Count\",\n",
    "    \" from\",\n",
    "    \"aka\",\n",
    "    \"Prof\",\n",
    "    \"Lieutenant\",\n",
    "    \"Princess\",\n",
    "    \"Windysport\",\n",
    "    \" as\",\n",
    "    \" is\",\n",
    "    \" at\",\n",
    "    \" to\",\n",
    "    \"nicknamed\",\n",
    "    \" name\",\n",
    "    \" by\",\n",
    "    \" of\",\n",
    "    \" and\",\n",
    "    \" in\",\n",
    "    \"Personal\",\n",
    "    \"Honour\",\n",
    "    \"postage\",\n",
    "    \"Professor\",\n",
    "    \" Award\",\n",
    "    \"General\",\n",
    "    \"Admiral\",\n",
    "    \"Born\",\n",
    "    \"Website\",\n",
    "    \"'\",\n",
    "    \"\\)\",\n",
    "    \"\\(\",\n",
    "    \"Lady\",\n",
    "    \"Lord\",\n",
    "]\n",
    "\n",
    "for word in words_to_filter:\n",
    "    df = df[~df[\"Name\"].str.contains(word)]\n",
    "\n",
    "# filter acronyms\n",
    "df = df[~df[\"Name\"].str.contains(r\"\\b[A-Z](?:[&.]?[A-Z])+\\b\")]\n",
    "\n",
    "df[\"surname\"] = df[\"Name\"].str.split(\" \", expand=True).ffill(axis=1).iloc[:, -1]"
   ]
  },
  {
   "cell_type": "code",
   "execution_count": 243,
   "id": "f2485b85-35a8-47b5-a424-0246be411e8f",
   "metadata": {},
   "outputs": [
    {
     "data": {
      "text/html": [
       "<div>\n",
       "<style scoped>\n",
       "    .dataframe tbody tr th:only-of-type {\n",
       "        vertical-align: middle;\n",
       "    }\n",
       "\n",
       "    .dataframe tbody tr th {\n",
       "        vertical-align: top;\n",
       "    }\n",
       "\n",
       "    .dataframe thead th {\n",
       "        text-align: right;\n",
       "    }\n",
       "</style>\n",
       "<table border=\"1\" class=\"dataframe\">\n",
       "  <thead>\n",
       "    <tr style=\"text-align: right;\">\n",
       "      <th></th>\n",
       "      <th>Name</th>\n",
       "      <th>country</th>\n",
       "      <th>surname</th>\n",
       "    </tr>\n",
       "  </thead>\n",
       "  <tbody>\n",
       "    <tr>\n",
       "      <th>345072</th>\n",
       "      <td>Brooke Griffin</td>\n",
       "      <td>Slovakia</td>\n",
       "      <td>Griffin</td>\n",
       "    </tr>\n",
       "    <tr>\n",
       "      <th>345073</th>\n",
       "      <td>Derrick Gay</td>\n",
       "      <td>Slovakia</td>\n",
       "      <td>Gay</td>\n",
       "    </tr>\n",
       "    <tr>\n",
       "      <th>345074</th>\n",
       "      <td>James Villegas</td>\n",
       "      <td>Slovakia</td>\n",
       "      <td>Villegas</td>\n",
       "    </tr>\n",
       "    <tr>\n",
       "      <th>345075</th>\n",
       "      <td>Johnny Reed</td>\n",
       "      <td>Slovakia</td>\n",
       "      <td>Reed</td>\n",
       "    </tr>\n",
       "    <tr>\n",
       "      <th>345076</th>\n",
       "      <td>Meagan Cooper</td>\n",
       "      <td>Slovakia</td>\n",
       "      <td>Cooper</td>\n",
       "    </tr>\n",
       "    <tr>\n",
       "      <th>...</th>\n",
       "      <td>...</td>\n",
       "      <td>...</td>\n",
       "      <td>...</td>\n",
       "    </tr>\n",
       "    <tr>\n",
       "      <th>348392</th>\n",
       "      <td>Crystal Frost</td>\n",
       "      <td>Slovakia</td>\n",
       "      <td>Frost</td>\n",
       "    </tr>\n",
       "    <tr>\n",
       "      <th>348393</th>\n",
       "      <td>Traci Reyes</td>\n",
       "      <td>Slovakia</td>\n",
       "      <td>Reyes</td>\n",
       "    </tr>\n",
       "    <tr>\n",
       "      <th>348394</th>\n",
       "      <td>Nichole Bowen</td>\n",
       "      <td>Slovakia</td>\n",
       "      <td>Bowen</td>\n",
       "    </tr>\n",
       "    <tr>\n",
       "      <th>348395</th>\n",
       "      <td>Sarah Gregory</td>\n",
       "      <td>Slovakia</td>\n",
       "      <td>Gregory</td>\n",
       "    </tr>\n",
       "    <tr>\n",
       "      <th>348396</th>\n",
       "      <td>Cheryl Baker</td>\n",
       "      <td>Slovakia</td>\n",
       "      <td>Baker</td>\n",
       "    </tr>\n",
       "  </tbody>\n",
       "</table>\n",
       "<p>3179 rows × 3 columns</p>\n",
       "</div>"
      ],
      "text/plain": [
       "                  Name   country   surname\n",
       "345072  Brooke Griffin  Slovakia   Griffin\n",
       "345073     Derrick Gay  Slovakia       Gay\n",
       "345074  James Villegas  Slovakia  Villegas\n",
       "345075     Johnny Reed  Slovakia      Reed\n",
       "345076   Meagan Cooper  Slovakia    Cooper\n",
       "...                ...       ...       ...\n",
       "348392   Crystal Frost  Slovakia     Frost\n",
       "348393     Traci Reyes  Slovakia     Reyes\n",
       "348394   Nichole Bowen  Slovakia     Bowen\n",
       "348395   Sarah Gregory  Slovakia   Gregory\n",
       "348396    Cheryl Baker  Slovakia     Baker\n",
       "\n",
       "[3179 rows x 3 columns]"
      ]
     },
     "execution_count": 243,
     "metadata": {},
     "output_type": "execute_result"
    }
   ],
   "source": [
    "df[df[\"country\"] == \"Slovakia\"]"
   ]
  },
  {
   "cell_type": "markdown",
   "id": "eaa3aeed-7c1f-4ede-9341-e39c2b37a558",
   "metadata": {},
   "source": [
    "**hmm, this looks like a BS dataset!!!**"
   ]
  },
  {
   "cell_type": "markdown",
   "id": "08d44629-7335-44b4-afa1-aa66b407acf2",
   "metadata": {},
   "source": [
    "* [data/raw/name2lang.txt](https://www.kaggle.com/datasets/rp1985/name2lang/data)"
   ]
  },
  {
   "cell_type": "code",
   "execution_count": 190,
   "id": "fa817cf4-f1ad-4726-ade6-2a3c78ee80e5",
   "metadata": {},
   "outputs": [],
   "source": [
    "df = pd.read_csv(\"data/raw/name2lang.txt\", names=[\"surname\", \"nationality\"])"
   ]
  },
  {
   "cell_type": "code",
   "execution_count": 191,
   "id": "fc84f334-db33-4d29-a61c-22013cc24527",
   "metadata": {},
   "outputs": [
    {
     "data": {
      "text/plain": [
       "array([' Portuguese', ' Irish', ' Spanish', ' Vietnamese', ' Chinese',\n",
       "       ' Greek', ' Czech', ' Dutch', ' Japanese', ' French', ' German',\n",
       "       ' Scottish', ' English', ' Russian', 'Russian', ' Polish',\n",
       "       ' Arabic', ' Korean', ' Italian'], dtype=object)"
      ]
     },
     "execution_count": 191,
     "metadata": {},
     "output_type": "execute_result"
    }
   ],
   "source": [
    "df[\"nationality\"].unique()"
   ]
  },
  {
   "cell_type": "code",
   "execution_count": 192,
   "id": "963afd58-fd6f-488a-8966-46abbc64266c",
   "metadata": {},
   "outputs": [],
   "source": [
    "df[\"country\"] = df[\"nationality\"].replace(\n",
    "    {\n",
    "        \" Arabic\": \"Arabic\",\n",
    "        \" Chinese\": \"China\",\n",
    "        \" Czech\": \"Czechia\",\n",
    "        \" Dutch\": \"Netherlands \",\n",
    "        \" English\": \"England\",\n",
    "        \" French\": \"France\",\n",
    "        \" German\": \"Germany\",\n",
    "        \" Greek\": \"Greece\",\n",
    "        \" Irish\": \"Ireland\",\n",
    "        \" Italian\": \"Italy\",\n",
    "        \" Japanese\": \"Japan\",\n",
    "        \" Korean\": \" Korea\",\n",
    "        \" Polish\": \"Poland\",\n",
    "        \" Portuguese\": \"Portugal\",\n",
    "        \"Russian\": \"Russia\",\n",
    "        \" Russian\": \"Russia\",\n",
    "        \" Scottish\": \"England\",\n",
    "        \" Spanish\": \"Spain\",\n",
    "        \" Vietnamese\": \"Vietnam\",\n",
    "    }\n",
    ")"
   ]
  },
  {
   "cell_type": "code",
   "execution_count": 193,
   "id": "737578a8-d05b-40a1-a9f8-0551cd7acc59",
   "metadata": {},
   "outputs": [
    {
     "data": {
      "text/html": [
       "<div>\n",
       "<style scoped>\n",
       "    .dataframe tbody tr th:only-of-type {\n",
       "        vertical-align: middle;\n",
       "    }\n",
       "\n",
       "    .dataframe tbody tr th {\n",
       "        vertical-align: top;\n",
       "    }\n",
       "\n",
       "    .dataframe thead th {\n",
       "        text-align: right;\n",
       "    }\n",
       "</style>\n",
       "<table border=\"1\" class=\"dataframe\">\n",
       "  <thead>\n",
       "    <tr style=\"text-align: right;\">\n",
       "      <th></th>\n",
       "      <th>surname</th>\n",
       "      <th>nationality</th>\n",
       "      <th>country</th>\n",
       "    </tr>\n",
       "  </thead>\n",
       "  <tbody>\n",
       "    <tr>\n",
       "      <th>0</th>\n",
       "      <td>Abreu</td>\n",
       "      <td>Portuguese</td>\n",
       "      <td>Portugal</td>\n",
       "    </tr>\n",
       "    <tr>\n",
       "      <th>1</th>\n",
       "      <td>Albuquerque</td>\n",
       "      <td>Portuguese</td>\n",
       "      <td>Portugal</td>\n",
       "    </tr>\n",
       "    <tr>\n",
       "      <th>2</th>\n",
       "      <td>Almeida</td>\n",
       "      <td>Portuguese</td>\n",
       "      <td>Portugal</td>\n",
       "    </tr>\n",
       "    <tr>\n",
       "      <th>3</th>\n",
       "      <td>Alves</td>\n",
       "      <td>Portuguese</td>\n",
       "      <td>Portugal</td>\n",
       "    </tr>\n",
       "    <tr>\n",
       "      <th>4</th>\n",
       "      <td>Araujo</td>\n",
       "      <td>Portuguese</td>\n",
       "      <td>Portugal</td>\n",
       "    </tr>\n",
       "    <tr>\n",
       "      <th>...</th>\n",
       "      <td>...</td>\n",
       "      <td>...</td>\n",
       "      <td>...</td>\n",
       "    </tr>\n",
       "    <tr>\n",
       "      <th>20045</th>\n",
       "      <td>Zappa</td>\n",
       "      <td>Italian</td>\n",
       "      <td>Italy</td>\n",
       "    </tr>\n",
       "    <tr>\n",
       "      <th>20046</th>\n",
       "      <td>Zeni</td>\n",
       "      <td>Italian</td>\n",
       "      <td>Italy</td>\n",
       "    </tr>\n",
       "    <tr>\n",
       "      <th>20047</th>\n",
       "      <td>Zini</td>\n",
       "      <td>Italian</td>\n",
       "      <td>Italy</td>\n",
       "    </tr>\n",
       "    <tr>\n",
       "      <th>20048</th>\n",
       "      <td>Zino</td>\n",
       "      <td>Italian</td>\n",
       "      <td>Italy</td>\n",
       "    </tr>\n",
       "    <tr>\n",
       "      <th>20049</th>\n",
       "      <td>Zunino</td>\n",
       "      <td>Italian</td>\n",
       "      <td>Italy</td>\n",
       "    </tr>\n",
       "  </tbody>\n",
       "</table>\n",
       "<p>20050 rows × 3 columns</p>\n",
       "</div>"
      ],
      "text/plain": [
       "           surname  nationality   country\n",
       "0            Abreu   Portuguese  Portugal\n",
       "1      Albuquerque   Portuguese  Portugal\n",
       "2          Almeida   Portuguese  Portugal\n",
       "3            Alves   Portuguese  Portugal\n",
       "4           Araujo   Portuguese  Portugal\n",
       "...            ...          ...       ...\n",
       "20045        Zappa      Italian     Italy\n",
       "20046         Zeni      Italian     Italy\n",
       "20047         Zini      Italian     Italy\n",
       "20048         Zino      Italian     Italy\n",
       "20049       Zunino      Italian     Italy\n",
       "\n",
       "[20050 rows x 3 columns]"
      ]
     },
     "execution_count": 193,
     "metadata": {},
     "output_type": "execute_result"
    }
   ],
   "source": [
    "df"
   ]
  },
  {
   "cell_type": "code",
   "execution_count": 194,
   "id": "d8768eba-7589-4cbc-94b8-d66bc3246aeb",
   "metadata": {},
   "outputs": [],
   "source": [
    "df.drop(columns=[\"nationality\"]).to_parquet(\"data/preprocessed/name2lang.parquet\")"
   ]
  }
 ],
 "metadata": {
  "kernelspec": {
   "display_name": "Python 3 (ipykernel)",
   "language": "python",
   "name": "python3"
  },
  "language_info": {
   "codemirror_mode": {
    "name": "ipython",
    "version": 3
   },
   "file_extension": ".py",
   "mimetype": "text/x-python",
   "name": "python",
   "nbconvert_exporter": "python",
   "pygments_lexer": "ipython3",
   "version": "3.10.11"
  }
 },
 "nbformat": 4,
 "nbformat_minor": 5
}
